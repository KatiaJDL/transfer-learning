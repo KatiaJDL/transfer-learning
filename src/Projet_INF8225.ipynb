{
  "cells": [
    {
      "cell_type": "markdown",
      "metadata": {
        "id": "bbSBSKZ5ub_D"
      },
      "source": [
        "# Projet INF8225\n",
        "## Apprentissage par transfert\n"
      ]
    },
    {
      "cell_type": "markdown",
      "metadata": {
        "id": "bK2dRlPEulh1"
      },
      "source": [
        "## Importations"
      ]
    },
    {
      "cell_type": "code",
      "execution_count": null,
      "metadata": {
        "id": "4lktpieauaem"
      },
      "outputs": [],
      "source": [
        "import numpy as np\n",
        "import pandas as pd\n",
        "import matplotlib.pyplot as plt\n",
        "import cv2 #OpenCV documentation : https://docs.opencv.org/4.x/\n",
        "import matplotlib.patches as patches\n",
        "import torch\n",
        "import torch.nn as nn\n",
        "from PIL import Image\n",
        "from torchvision import transforms\n",
        "from torch.utils.tensorboard import SummaryWriter\n",
        "from datetime import datetime\n",
        "import time\n",
        "import glob\n",
        "%pip install wandb > /dev/null\n",
        "import wandb\n",
        "from collections import defaultdict\n",
        "\n",
        "import seaborn as sns\n",
        "sns.set_theme()"
      ]
    },
    {
      "cell_type": "markdown",
      "metadata": {
        "id": "00la-Y1Junsi"
      },
      "source": [
        "## Preprocessing"
      ]
    },
    {
      "cell_type": "markdown",
      "metadata": {
        "id": "a4POKA92_ZfQ"
      },
      "source": [
        "### Flowers dataset"
      ]
    },
    {
      "cell_type": "code",
      "execution_count": null,
      "metadata": {
        "colab": {
          "base_uri": "https://localhost:8080/",
          "height": 434
        },
        "id": "m9-orT0F9H_I",
        "outputId": "b4913afc-7d63-42f2-f621-a9c06deb328c"
      },
      "outputs": [],
      "source": [
        "import scipy.io\n",
        "mat = scipy.io.loadmat('data/Flowers/imagelabels.mat')\n",
        "flower_labels = mat.get('labels')\n",
        "size = len(flower_labels[0])\n",
        "print(size)"
      ]
    },
    {
      "cell_type": "code",
      "execution_count": null,
      "metadata": {
        "id": "O4KI2-wW9cTs"
      },
      "outputs": [],
      "source": [
        "import scipy.io\n",
        "mat = scipy.io.loadmat('data/Flowers/setid.mat')\n",
        "train = mat.get('trnid')\n",
        "valid = mat.get('valid')\n",
        "test = mat.get('tstid')\n",
        "print(\"train: \", len(train[0]))\n",
        "print(\"valid: \", len(valid[0]))\n",
        "print(\"test: \", len(test[0]))"
      ]
    },
    {
      "cell_type": "code",
      "execution_count": null,
      "metadata": {
        "id": "7-fnnt_K-Edm"
      },
      "outputs": [],
      "source": [
        "ex = cv2.imread('data/Flowers/jpg/image_00435.jpg')\n",
        "print(flower_labels[0][435])\n",
        "ex = cv2.cvtColor(ex, cv2.COLOR_BGR2RGB)\n",
        "fig,ax = plt.subplots(1)\n",
        "ax.imshow(ex)\n",
        "plt.axis('off')\n",
        "plt.show()"
      ]
    },
    {
      "cell_type": "code",
      "execution_count": null,
      "metadata": {
        "id": "-K7kggjNUDOY"
      },
      "outputs": [],
      "source": [
        "class FlowerDataset(torch.utils.data.dataset.Dataset):\n",
        "    def __init__(\n",
        "            self,\n",
        "            datasetid,\n",
        "            preprocess,\n",
        "            labels\n",
        "        ):\n",
        "        super().__init__()\n",
        "\n",
        "        self.datasetid = datasetid\n",
        "        self.preprocess = preprocess\n",
        "        self.labels = labels\n",
        "\n",
        "    def __len__(self):\n",
        "        \"\"\"Return the number of examples in the dataset.\n",
        "        \"\"\"\n",
        "        return len(self.datasetid)\n",
        "\n",
        "    def __getitem__(self, index: int) -> tuple:\n",
        "        \"\"\"Return a sample.\n",
        "\n",
        "        Args\n",
        "        ----\n",
        "            index: Index of the sample.\n",
        "\n",
        "        Output\n",
        "        ------\n",
        "            input_tensor : tensor\n",
        "            label : int\n",
        "        \"\"\"\n",
        "        idx_image = '0000'+str(self.datasetid[index])\n",
        "        input_image = Image.open('data/Flowers/jpg/image_'+idx_image[-5:]+'.jpg')\n",
        "        label = self.labels[self.datasetid[index]]-1\n",
        "        input_tensor = self.preprocess(input_image)\n",
        "        return input_tensor, label"
      ]
    },
    {
      "cell_type": "markdown",
      "metadata": {
        "id": "dAsxKRBN_cKG"
      },
      "source": [
        "### Naturalist dataset"
      ]
    },
    {
      "cell_type": "code",
      "execution_count": null,
      "metadata": {
        "colab": {
          "base_uri": "https://localhost:8080/"
        },
        "id": "UjWvamTWX5Ym",
        "outputId": "1c257409-f10a-417b-d02f-0bc0c310acf4"
      },
      "outputs": [],
      "source": [
        "root_path = 'data/iNaturalist/train_val_images/Fungi' "
      ]
    },
    {
      "cell_type": "code",
      "execution_count": null,
      "metadata": {
        "colab": {
          "base_uri": "https://localhost:8080/",
          "height": 54
        },
        "id": "w3YOEWMyb_gr",
        "outputId": "b82ab449-ef73-4293-efbe-7dabd13fa42c"
      },
      "outputs": [],
      "source": [
        "ex = cv2.imread(root_path+'/Agrocybe parasitica/028ec1c88701ec38291810cba41df7aa.jpg')\n",
        "ex = cv2.cvtColor(ex, cv2.COLOR_BGR2RGB)\n",
        "fig,ax = plt.subplots(1)\n",
        "ax.imshow(ex)\n",
        "plt.axis('off')\n",
        "plt.show()"
      ]
    },
    {
      "cell_type": "code",
      "execution_count": null,
      "metadata": {
        "id": "dQQp3R0icXEY"
      },
      "outputs": [],
      "source": [
        "import os\n",
        "categories_dic = {}\n",
        "categories_list = []\n",
        "images = []\n",
        "fungi_labels = []\n",
        "i = 0\n",
        "for directory in os.listdir(root_path):\n",
        "  categories_dic[directory] = i\n",
        "  categories_list.append(directory)\n",
        "\n",
        "  for filename in glob.glob(root_path + '/' + directory + \"/*.jpg\"):\n",
        "    #print(filename)\n",
        "    images.append(filename.split('/')[-1].split('.')[0])\n",
        "    fungi_labels.append(i)\n",
        "\n",
        "  i+=1"
      ]
    },
    {
      "cell_type": "code",
      "execution_count": null,
      "metadata": {
        "colab": {
          "base_uri": "https://localhost:8080/"
        },
        "id": "NytzqL_Ht3HD",
        "outputId": "91984627-10df-462b-95e7-a90eaaead77e"
      },
      "outputs": [],
      "source": [
        "print(len(categories_list))"
      ]
    },
    {
      "cell_type": "code",
      "execution_count": null,
      "metadata": {
        "colab": {
          "base_uri": "https://localhost:8080/"
        },
        "id": "klthBVTjHHmP",
        "outputId": "804fca0b-1edc-4122-ba45-da16f0321a45"
      },
      "outputs": [],
      "source": [
        "np.bincount(fungi_labels).min()"
      ]
    },
    {
      "cell_type": "code",
      "execution_count": null,
      "metadata": {
        "colab": {
          "base_uri": "https://localhost:8080/"
        },
        "id": "fsTKvk87hwlW",
        "outputId": "3fbc6ac9-2a18-4766-ee8a-feb88b65e8ec"
      },
      "outputs": [],
      "source": [
        "from sklearn.model_selection import train_test_split\n",
        "\n",
        "fungi_train, fungi_valid, y_fungi_train, y_fungi_valid = train_test_split(images, fungi_labels, train_size=0.8)\n",
        "\n",
        "print(len(fungi_train))"
      ]
    },
    {
      "cell_type": "code",
      "execution_count": null,
      "metadata": {
        "colab": {
          "base_uri": "https://localhost:8080/"
        },
        "id": "rFUMgTp30B_u",
        "outputId": "bb5747e4-5f81-4602-e6ad-e768a83ff89f"
      },
      "outputs": [],
      "source": [
        "print(np.unique(y_fungi_train))\n",
        "print(len(np.unique(fungi_labels)))"
      ]
    },
    {
      "cell_type": "code",
      "execution_count": null,
      "metadata": {
        "colab": {
          "base_uri": "https://localhost:8080/",
          "height": 141
        },
        "id": "3EBqBQmwqmop",
        "outputId": "374ffcea-306e-4f74-b2ce-5690cbe1222d"
      },
      "outputs": [],
      "source": [
        "print(fungi_train)\n",
        "print(len(fungi_train))\n",
        "print(y_fungi_train)\n",
        "print(len(y_fungi_train))\n",
        "\n",
        "label = y_fungi_train[0]\n",
        "\n",
        "print(categories_list[label])\n",
        "\n",
        "ex = cv2.imread(root_path+'/' +categories_list[label] +'/' + fungi_train[0] +'.jpg')\n",
        "ex = cv2.cvtColor(ex, cv2.COLOR_BGR2RGB)\n",
        "fig,ax = plt.subplots(1)\n",
        "ax.imshow(ex)\n",
        "plt.axis('off')\n",
        "plt.show()"
      ]
    },
    {
      "cell_type": "code",
      "execution_count": null,
      "metadata": {
        "id": "dyLX2lOMTW5_"
      },
      "outputs": [],
      "source": [
        "class iNaturalistDataset(torch.utils.data.dataset.Dataset):\n",
        "    def __init__(\n",
        "            self,\n",
        "            filenames,\n",
        "            preprocess,\n",
        "            labels,\n",
        "            categories_list = None\n",
        "        ):\n",
        "        super().__init__()\n",
        "\n",
        "        self.filenames = filenames\n",
        "        self.preprocess = preprocess\n",
        "        self.labels = labels\n",
        "\n",
        "        self.categories_list = categories_list\n",
        "\n",
        "    def __len__(self):\n",
        "        \"\"\"Return the number of examples in the dataset.\n",
        "        \"\"\"\n",
        "        return len(self.filenames)\n",
        "\n",
        "    def __getitem__(self, index: int) -> tuple:\n",
        "        \"\"\"Return a sample.\n",
        "\n",
        "        Args\n",
        "        ----\n",
        "            index: Index of the sample.\n",
        "\n",
        "        Output\n",
        "        ------\n",
        "            input_tensor : tensor\n",
        "            label : int\n",
        "        \"\"\"\n",
        "        \n",
        "        idx_image = self.filenames[index]\n",
        "\n",
        "        label = self.labels[index]\n",
        "\n",
        "        input_image = Image.open(root_path + '/' + self.categories_list[label] + '/' +idx_image +'.jpg')\n",
        "        input_tensor = self.preprocess(input_image)\n",
        "        return input_tensor, label"
      ]
    },
    {
      "cell_type": "markdown",
      "metadata": {
        "id": "K-Jh7lN4_fOR"
      },
      "source": [
        "## Architecture"
      ]
    },
    {
      "cell_type": "markdown",
      "metadata": {
        "id": "hB4CfwpJWFhH"
      },
      "source": [
        "### Training loop"
      ]
    },
    {
      "cell_type": "code",
      "execution_count": null,
      "metadata": {
        "id": "8PYZWEELWESB"
      },
      "outputs": [],
      "source": [
        "def print_logs(dataset_type: str, logs: dict):\n",
        "    \"\"\"Print the logs.\n",
        "\n",
        "    Args\n",
        "    ----\n",
        "        dataset_type: Either \"Train\", \"Eval\", \"Test\" type.\n",
        "        logs: Containing the metric's name and value.\n",
        "    \"\"\"\n",
        "    desc = [\n",
        "        f'{name}: {value:.2f}'\n",
        "        for name, value in logs.items()\n",
        "    ]\n",
        "    desc = '\\t'.join(desc)\n",
        "    desc = f'{dataset_type} -\\t' + desc\n",
        "    desc = desc.expandtabs(5)\n",
        "    print(desc)\n",
        "\n",
        "\n",
        "def loss_batch(\n",
        "        model,\n",
        "        image,\n",
        "        label,\n",
        "        config,\n",
        "    )-> dict:\n",
        "    \"\"\"Compute the metrics associated with this batch.\n",
        "    The metrics are:\n",
        "        - loss\n",
        "        - top-1 accuracy\n",
        "        - top-5 accuracy\n",
        "\n",
        "    Output\n",
        "    ------\n",
        "        metrics: Dictionnary containing evaluated metrics on this batch.\n",
        "    \"\"\"\n",
        "    device = config['device']\n",
        "    loss_fn = config['loss'].to(device)\n",
        "    metrics = dict()\n",
        "\n",
        "    image, label = image.to(device), label.to(device)\n",
        "\n",
        "    # Loss\n",
        "    pred = model(image) \n",
        "    try :\n",
        "      pred = pred.to(device)\n",
        "    except AttributeError:\n",
        "      pred = pred.logits.to(device)\n",
        "    \n",
        "    metrics['loss'] = loss_fn(pred, label)\n",
        "\n",
        "    # Accuracy \n",
        "    for k in [1, 5, 10]:\n",
        "        total = image.shape[0]\n",
        "\n",
        "        _, pred_k = pred.topk(k=k, dim=-1)\n",
        "\n",
        "        real_labels = einops.repeat(label, 'b -> b k', k=k)  \n",
        "\n",
        "        good = (pred_k == real_labels)\n",
        "        acc = good.sum() / total\n",
        "        \n",
        "        metrics[f'top-{k}'] = acc\n",
        "\n",
        "    return metrics\n",
        "\n",
        "\n",
        "def eval_model(model, dataloader, config) -> dict:\n",
        "    \"\"\"Evaluate the model on the given dataloader.\n",
        "    \"\"\"\n",
        "    device = config['device']\n",
        "    logs = defaultdict(list)\n",
        "\n",
        "    model.to(device)\n",
        "\n",
        "    with torch.no_grad():\n",
        "        for image, label in dataloader:\n",
        "            metrics = loss_batch(model, image, label, config)\n",
        "            for name, value in metrics.items():\n",
        "                logs[name].append(value.cpu().item())\n",
        "\n",
        "    for name, values in logs.items():\n",
        "        logs[name] = np.mean(values)\n",
        "    return logs\n",
        "\n",
        "\n",
        "def train_model(model: nn.Module, config: dict):\n",
        "    train_loader, val_loader = config['train_loader'], config['val_loader']\n",
        "    optimizer = config['optimizer']\n",
        "    device = config['device']\n",
        "\n",
        "    # Early stopping\n",
        "    last_loss = 100\n",
        "    patience = config['patience']\n",
        "    triggertimes = 0\n",
        "    \n",
        "    model = model.to(device)\n",
        "\n",
        "    # Freezing of layers\n",
        "    for (name, module) in model.named_children():\n",
        "        for param in module.parameters():\n",
        "            if name in config['freeze'] :\n",
        "                param.requires_grad = False\n",
        "            else :\n",
        "                param.requires_grad = True\n",
        "\n",
        "    print(f'Starting training for {config[\"epochs\"]} epochs, using {device}.')\n",
        "    for e in range(config['epochs']):\n",
        "        print(f'\\nEpoch {e+1}')\n",
        "        debut = time.time()\n",
        "        model.train(True)      \n",
        "        logs = defaultdict(list)\n",
        "\n",
        "        running_loss = 0\n",
        "        for batch_id, (source, label) in enumerate(train_loader):\n",
        "            optimizer.zero_grad()\n",
        "\n",
        "            metrics = loss_batch(model, source, label, config)\n",
        "            loss = metrics['loss']\n",
        "            loss.backward()\n",
        "            running_loss += loss\n",
        "\n",
        "            optimizer.step()\n",
        "\n",
        "            for name, value in metrics.items():\n",
        "                logs[name].append(value.cpu().item())  # Don't forget the '.item' to free the cuda memory\n",
        "            if batch_id % config['log_every'] == 0:\n",
        "                for name, value in logs.items():\n",
        "                    logs[name] = np.mean(value)\n",
        "\n",
        "                train_logs = {\n",
        "                    f'Train - {m}': v\n",
        "                    for m, v in logs.items()\n",
        "                }\n",
        "                wandb.log(train_logs)\n",
        "                logs = defaultdict(list)\n",
        "\n",
        "        # We don't need gradients on to do reporting\n",
        "        model.train(False)\n",
        "\n",
        "        # Logs\n",
        "        if len(logs) != 0:\n",
        "            for name, value in logs.items():\n",
        "                logs[name] = np.mean(value)\n",
        "            train_logs = {\n",
        "                f'Train - {m}': v\n",
        "                for m, v in logs.items()\n",
        "            }\n",
        "        else:\n",
        "            logs = {\n",
        "                m.split(' - ')[1]: v\n",
        "                for m, v in train_logs.items()\n",
        "            if ' - ' in m}\n",
        "\n",
        "        print_logs('Train', logs)\n",
        "\n",
        "        logs = eval_model(model, val_loader, config)\n",
        "        print_logs('Eval', logs)\n",
        "        val_logs = {\n",
        "            f'Validation - {m}': v\n",
        "            for m, v in logs.items()\n",
        "        }\n",
        "\n",
        "        logs = {**train_logs, **val_logs}  # Merge dictionnaries\n",
        "        wandb.log(logs)  # Upload to the WandB cloud\n",
        "\n",
        "        duree = time.time()-debut\n",
        "        print(f'Durée : {duree} secondes')\n",
        "\n",
        "        # Early stopping\n",
        "        current_loss = logs['Validation - loss']\n",
        "\n",
        "        if current_loss > last_loss:\n",
        "            trigger_times += 1\n",
        "            print('Trigger Times:', trigger_times)\n",
        "\n",
        "            if trigger_times >= patience:\n",
        "                print('Early stopping!')\n",
        "\n",
        "                return model\n",
        "\n",
        "        else:\n",
        "            print('Trigger Times: 0')\n",
        "            trigger_times = 0\n",
        "\n",
        "            last_loss = current_loss\n"
      ]
    },
    {
      "cell_type": "markdown",
      "metadata": {
        "id": "kww5Q100PhT1"
      },
      "source": [
        "### ResNet"
      ]
    },
    {
      "cell_type": "code",
      "execution_count": null,
      "metadata": {
        "id": "H74Ldh50u_p0"
      },
      "outputs": [],
      "source": [
        "#Data augmentation\n",
        "resnet_transform = transforms.Compose([\n",
        "    transforms.Resize(256),\n",
        "    transforms.CenterCrop(224),\n",
        "    transforms.RandomHorizontalFlip(p=0.5),\n",
        "    transforms.RandomRotation(10),\n",
        "    transforms.ToTensor(),\n",
        "    transforms.Normalize(mean=[0.485, 0.456, 0.406], std=[0.229, 0.224, 0.225]),\n",
        "])\n",
        "\n",
        "resnet_transform_valid = transforms.Compose([\n",
        "    transforms.Resize(256),\n",
        "    transforms.CenterCrop(224),\n",
        "    transforms.ToTensor(),\n",
        "    transforms.Normalize(mean=[0.485, 0.456, 0.406], std=[0.229, 0.224, 0.225]),\n",
        "])"
      ]
    },
    {
      "cell_type": "code",
      "execution_count": null,
      "metadata": {
        "colab": {
          "base_uri": "https://localhost:8080/",
          "height": 1000,
          "referenced_widgets": [
            "8ab3712d6637431aaa59ac7ad4ef3631",
            "1f5e8d000ee74530b16dfd1c6f26afe2",
            "708538cb8b434e8a813f2db18eabb112",
            "de5837e234934da98b4e97c041cbcdd5",
            "b4b448e1ad1c4e388389759197dfbfbb",
            "1f808f8e1e994bef9ef8b008263e4aba",
            "3be13ff052bc4f0c8d7f9af9b432afef",
            "d1c9e18785594898ae0f5a8dd996cfdf",
            "4983818afe5f4869a586f5e09f2bd357",
            "ec9b83785c5f47b6b95358a7d36fcd11",
            "f58663da6f8047498da13f0f2eb4d8d1"
          ]
        },
        "id": "ncWkQg591Dc6",
        "outputId": "4884b70e-784b-4d41-8f28-79f6e6ae683c"
      },
      "outputs": [],
      "source": [
        "resnet = torch.hub.load('pytorch/vision:v0.10.0', 'resnet18', pretrained=True)\n",
        "resnet._modules['fc'] = nn.Linear(in_features=512, out_features=102, bias=True)\n",
        "resnet.eval()"
      ]
    },
    {
      "cell_type": "code",
      "execution_count": null,
      "metadata": {
        "colab": {
          "base_uri": "https://localhost:8080/"
        },
        "id": "4I7iaS6uj-RA",
        "outputId": "d10b35d7-faa6-4b33-a04a-c55d5728069f"
      },
      "outputs": [],
      "source": [
        "for name, param in resnet.named_parameters():\n",
        "    print(name)"
      ]
    },
    {
      "cell_type": "code",
      "execution_count": null,
      "metadata": {
        "colab": {
          "base_uri": "https://localhost:8080/"
        },
        "id": "ypyI6AzInWQ8",
        "outputId": "14403021-86de-4698-f8d7-18d78f3cbf27"
      },
      "outputs": [],
      "source": [
        "for (name, module) in resnet.named_children():\n",
        "    print(name)"
      ]
    },
    {
      "cell_type": "markdown",
      "metadata": {
        "id": "EdiN1fLIui4a"
      },
      "source": [
        "### Inception"
      ]
    },
    {
      "cell_type": "code",
      "execution_count": null,
      "metadata": {
        "id": "b1LmK2SwvC5w"
      },
      "outputs": [],
      "source": [
        "inception_transform = transforms.Compose([\n",
        "    transforms.Resize(299),\n",
        "    transforms.CenterCrop(299),\n",
        "    transforms.RandomHorizontalFlip(p=0.5),\n",
        "    transforms.RandomRotation(10),\n",
        "    transforms.ToTensor(),\n",
        "    transforms.Normalize(mean=[0.485, 0.456, 0.406], std=[0.229, 0.224, 0.225]),\n",
        "])\n",
        "\n",
        "inception_transform_valid = transforms.Compose([\n",
        "    transforms.Resize(299),\n",
        "    transforms.CenterCrop(299),\n",
        "    transforms.ToTensor(),\n",
        "    transforms.Normalize(mean=[0.485, 0.456, 0.406], std=[0.229, 0.224, 0.225]),\n",
        "])"
      ]
    },
    {
      "cell_type": "code",
      "execution_count": null,
      "metadata": {
        "colab": {
          "base_uri": "https://localhost:8080/"
        },
        "id": "9ohb-T7G6dsT",
        "outputId": "37244ddc-5b59-464c-a4fb-7aa6d0a67ab8"
      },
      "outputs": [],
      "source": [
        "inception = torch.hub.load('pytorch/vision:v0.10.0', 'inception_v3', pretrained=False, aux_logits=False)\n",
        "inception._modules['fc'] = nn.Linear(in_features=2048, out_features=102, bias=True)\n",
        "inception.eval()"
      ]
    },
    {
      "cell_type": "code",
      "execution_count": null,
      "metadata": {
        "colab": {
          "base_uri": "https://localhost:8080/"
        },
        "id": "23x7oAL_TTUq",
        "outputId": "24dbc56f-c625-4d1c-e808-e085472def61"
      },
      "outputs": [],
      "source": [
        "for name, module in inception.named_children():\n",
        "  print(name)"
      ]
    },
    {
      "cell_type": "code",
      "execution_count": null,
      "metadata": {
        "colab": {
          "base_uri": "https://localhost:8080/"
        },
        "id": "UasUcXbXrsAR",
        "outputId": "bb7057ca-3bc9-4b16-9d67-cdca2194d6c2"
      },
      "outputs": [],
      "source": [
        "for name, param in inception.named_parameters():\n",
        "  print(name)"
      ]
    },
    {
      "cell_type": "markdown",
      "metadata": {
        "id": "HvNOQbZWujtk"
      },
      "source": [
        "### Training"
      ]
    },
    {
      "cell_type": "code",
      "execution_count": null,
      "metadata": {
        "colab": {
          "base_uri": "https://localhost:8080/"
        },
        "id": "PbdjdgrMlNxl",
        "outputId": "93355a89-7a28-495b-d009-e3f4a9794dd6"
      },
      "outputs": [],
      "source": [
        "!wandb offline\n",
        "!wandb login\n",
        "\n",
        "!nvidia-smi"
      ]
    },
    {
      "cell_type": "code",
      "execution_count": null,
      "metadata": {
        "colab": {
          "base_uri": "https://localhost:8080/",
          "height": 84,
          "referenced_widgets": [
            "d8e4f95c96194e7da706f6b26d04e0f5",
            "2cdbcfd4614f41758a0df13cc6fcafe1",
            "dcdd7af3746f477c8c86d165f6eb440a",
            "1d622b1e28c140b5b564e2352bdfe96d",
            "3cde117104f64b0aa88f9d0d15f53998",
            "1a9c4fd719184630a9acfe38dcbac988",
            "50722f5d202d481ebf10825a84334cdc",
            "73343c328d634932a765ab734d594dc4",
            "c97b24a10bb243ef968897db4287be30",
            "ca924b8ed8af4d888a02d380a77a5180",
            "7f4c774397b74ebb941a9c88687e43a5"
          ]
        },
        "id": "y-X7K_L4ioZI",
        "outputId": "25d963dc-eda2-4021-86eb-eff1f612c45d"
      },
      "outputs": [],
      "source": [
        "config = {\n",
        "    # General parameters\n",
        "    'epochs': 20,\n",
        "    'batch_size': 20,\n",
        "    'lr': 1e-3,\n",
        "    'betas': (0.9, 0.99),\n",
        "    'device': 'cuda' if torch.cuda.is_available() else 'cpu',\n",
        "\n",
        "    'log_every': 5,  # Number of batches between each wandb logs\n",
        "    'patience' : 5,  # Patience for early stopping mechanism\n",
        "}\n",
        "\n",
        "\n",
        "config['pretrained'] = True\n",
        "\n",
        "config['data_augmentation'] = True\n",
        "\n",
        "model_type = inception\n",
        "\n",
        "config['freeze'] = []\n",
        "\n",
        "if model_type == resnet:\n",
        "  config['valid_preprocess'] = resnet_transform_valid\n",
        "  if config['data_augmentation']:\n",
        "    config['preprocess'] = resnet_transform\n",
        "  else : \n",
        "    config['preprocess'] = resnet_transform_valid\n",
        "elif model_type == inception:\n",
        "  config['valid_preprocess'] = inception_transform_valid\n",
        "  if config['data_augmentation']:\n",
        "    config['preprocess'] = inception_transform\n",
        "  else : \n",
        "    config['preprocess'] = inception_transform_valid\n",
        "\n",
        "\"\"\"\n",
        "\n",
        "config['train_loader'] = torch.utils.data.DataLoader(FlowerDataset(train[0],config['preprocess'],flower_labels[0]), \n",
        "                                                     batch_size=config['batch_size'], shuffle=True)\n",
        "\n",
        "config['val_loader'] = torch.utils.data.DataLoader(FlowerDataset(valid[0],config['preprocess'],flower_labels[0]), \n",
        "                                                     batch_size=config['batch_size'], shuffle=True)\n",
        "\n",
        "config['dataset'] = 'flower'\n",
        "\n",
        "config['nb_classes'] = 102\n",
        "\n",
        "\"\"\"\n",
        "\n",
        "config['train_loader'] = torch.utils.data.DataLoader(iNaturalistDataset(fungi_train,config['preprocess'],y_fungi_train,categories_list), \n",
        "                                                     batch_size=config['batch_size'], shuffle=True)\n",
        "\n",
        "config['val_loader'] = torch.utils.data.DataLoader(iNaturalistDataset(fungi_valid,config['valid_preprocess'],y_fungi_valid,categories_list), \n",
        "                                                     batch_size=config['batch_size'], shuffle=True)\n",
        "\n",
        "config['dataset'] = 'fungi'\n",
        "\n",
        "config['nb_classes'] = 121\n",
        "\n",
        "\n",
        "\n",
        "if model_type == resnet:\n",
        "  model = torch.hub.load('pytorch/vision:v0.10.0', 'resnet18', pretrained=config['pretrained'])\n",
        "  model._modules['fc'] = nn.Linear(in_features=512, out_features=config['nb_classes'], bias=True) \n",
        "elif model_type == inception:\n",
        "  model = torch.hub.load('pytorch/vision:v0.10.0', 'inception_v3', pretrained=config['pretrained'],aux_logits=False,transform_input=False)\n",
        "  model._modules['fc'] = nn.Linear(in_features=2048, out_features=config['nb_classes'], bias=True)\n",
        "\n",
        "config['optimizer'] = torch.optim.Adam(\n",
        "    filter(lambda p: p.requires_grad, model.parameters()),\n",
        "    lr=1e-3,\n",
        "    betas=(0.9, 0.99),\n",
        ")\n",
        "\n",
        "config['loss'] = torch.nn.CrossEntropyLoss()"
      ]
    },
    {
      "cell_type": "code",
      "execution_count": null,
      "metadata": {
        "colab": {
          "base_uri": "https://localhost:8080/",
          "height": 139
        },
        "id": "eSwVcO5hirTs",
        "outputId": "dc90292c-93fc-43bf-9aa4-33d63243438f"
      },
      "outputs": [],
      "source": [
        "#!wandb offline\n",
        "with wandb.init(\n",
        "        config=config,\n",
        "        project='INF8225 - projet',  # Title of your project\n",
        "        group='pretrained - inception',  # In what group of runs do you want this run to be in?\n",
        "        save_code=True,\n",
        "        entity=\"katia_juliette\"\n",
        "    ):\n",
        "    train_model(model, config)"
      ]
    }
  ],
  "metadata": {
    "accelerator": "GPU",
    "colab": {
      "collapsed_sections": [
        "bK2dRlPEulh1",
        "a4POKA92_ZfQ",
        "dAsxKRBN_cKG",
        "hB4CfwpJWFhH",
        "kww5Q100PhT1",
        "EdiN1fLIui4a"
      ],
      "name": "Projet_INF8225.ipynb",
      "provenance": []
    },
    "kernelspec": {
      "display_name": "Python 3",
      "name": "python3"
    },
    "language_info": {
      "name": "python"
    },
    "widgets": {
      "application/vnd.jupyter.widget-state+json": {
        "1a9c4fd719184630a9acfe38dcbac988": {
          "model_module": "@jupyter-widgets/base",
          "model_module_version": "1.2.0",
          "model_name": "LayoutModel",
          "state": {
            "_model_module": "@jupyter-widgets/base",
            "_model_module_version": "1.2.0",
            "_model_name": "LayoutModel",
            "_view_count": null,
            "_view_module": "@jupyter-widgets/base",
            "_view_module_version": "1.2.0",
            "_view_name": "LayoutView",
            "align_content": null,
            "align_items": null,
            "align_self": null,
            "border": null,
            "bottom": null,
            "display": null,
            "flex": null,
            "flex_flow": null,
            "grid_area": null,
            "grid_auto_columns": null,
            "grid_auto_flow": null,
            "grid_auto_rows": null,
            "grid_column": null,
            "grid_gap": null,
            "grid_row": null,
            "grid_template_areas": null,
            "grid_template_columns": null,
            "grid_template_rows": null,
            "height": null,
            "justify_content": null,
            "justify_items": null,
            "left": null,
            "margin": null,
            "max_height": null,
            "max_width": null,
            "min_height": null,
            "min_width": null,
            "object_fit": null,
            "object_position": null,
            "order": null,
            "overflow": null,
            "overflow_x": null,
            "overflow_y": null,
            "padding": null,
            "right": null,
            "top": null,
            "visibility": null,
            "width": null
          }
        },
        "1d622b1e28c140b5b564e2352bdfe96d": {
          "model_module": "@jupyter-widgets/controls",
          "model_module_version": "1.5.0",
          "model_name": "HTMLModel",
          "state": {
            "_dom_classes": [],
            "_model_module": "@jupyter-widgets/controls",
            "_model_module_version": "1.5.0",
            "_model_name": "HTMLModel",
            "_view_count": null,
            "_view_module": "@jupyter-widgets/controls",
            "_view_module_version": "1.5.0",
            "_view_name": "HTMLView",
            "description": "",
            "description_tooltip": null,
            "layout": "IPY_MODEL_ca924b8ed8af4d888a02d380a77a5180",
            "placeholder": "​",
            "style": "IPY_MODEL_7f4c774397b74ebb941a9c88687e43a5",
            "value": " 104M/104M [00:02&lt;00:00, 42.0MB/s]"
          }
        },
        "1f5e8d000ee74530b16dfd1c6f26afe2": {
          "model_module": "@jupyter-widgets/controls",
          "model_module_version": "1.5.0",
          "model_name": "HTMLModel",
          "state": {
            "_dom_classes": [],
            "_model_module": "@jupyter-widgets/controls",
            "_model_module_version": "1.5.0",
            "_model_name": "HTMLModel",
            "_view_count": null,
            "_view_module": "@jupyter-widgets/controls",
            "_view_module_version": "1.5.0",
            "_view_name": "HTMLView",
            "description": "",
            "description_tooltip": null,
            "layout": "IPY_MODEL_1f808f8e1e994bef9ef8b008263e4aba",
            "placeholder": "​",
            "style": "IPY_MODEL_3be13ff052bc4f0c8d7f9af9b432afef",
            "value": "100%"
          }
        },
        "1f808f8e1e994bef9ef8b008263e4aba": {
          "model_module": "@jupyter-widgets/base",
          "model_module_version": "1.2.0",
          "model_name": "LayoutModel",
          "state": {
            "_model_module": "@jupyter-widgets/base",
            "_model_module_version": "1.2.0",
            "_model_name": "LayoutModel",
            "_view_count": null,
            "_view_module": "@jupyter-widgets/base",
            "_view_module_version": "1.2.0",
            "_view_name": "LayoutView",
            "align_content": null,
            "align_items": null,
            "align_self": null,
            "border": null,
            "bottom": null,
            "display": null,
            "flex": null,
            "flex_flow": null,
            "grid_area": null,
            "grid_auto_columns": null,
            "grid_auto_flow": null,
            "grid_auto_rows": null,
            "grid_column": null,
            "grid_gap": null,
            "grid_row": null,
            "grid_template_areas": null,
            "grid_template_columns": null,
            "grid_template_rows": null,
            "height": null,
            "justify_content": null,
            "justify_items": null,
            "left": null,
            "margin": null,
            "max_height": null,
            "max_width": null,
            "min_height": null,
            "min_width": null,
            "object_fit": null,
            "object_position": null,
            "order": null,
            "overflow": null,
            "overflow_x": null,
            "overflow_y": null,
            "padding": null,
            "right": null,
            "top": null,
            "visibility": null,
            "width": null
          }
        },
        "2cdbcfd4614f41758a0df13cc6fcafe1": {
          "model_module": "@jupyter-widgets/controls",
          "model_module_version": "1.5.0",
          "model_name": "HTMLModel",
          "state": {
            "_dom_classes": [],
            "_model_module": "@jupyter-widgets/controls",
            "_model_module_version": "1.5.0",
            "_model_name": "HTMLModel",
            "_view_count": null,
            "_view_module": "@jupyter-widgets/controls",
            "_view_module_version": "1.5.0",
            "_view_name": "HTMLView",
            "description": "",
            "description_tooltip": null,
            "layout": "IPY_MODEL_1a9c4fd719184630a9acfe38dcbac988",
            "placeholder": "​",
            "style": "IPY_MODEL_50722f5d202d481ebf10825a84334cdc",
            "value": "100%"
          }
        },
        "3be13ff052bc4f0c8d7f9af9b432afef": {
          "model_module": "@jupyter-widgets/controls",
          "model_module_version": "1.5.0",
          "model_name": "DescriptionStyleModel",
          "state": {
            "_model_module": "@jupyter-widgets/controls",
            "_model_module_version": "1.5.0",
            "_model_name": "DescriptionStyleModel",
            "_view_count": null,
            "_view_module": "@jupyter-widgets/base",
            "_view_module_version": "1.2.0",
            "_view_name": "StyleView",
            "description_width": ""
          }
        },
        "3cde117104f64b0aa88f9d0d15f53998": {
          "model_module": "@jupyter-widgets/base",
          "model_module_version": "1.2.0",
          "model_name": "LayoutModel",
          "state": {
            "_model_module": "@jupyter-widgets/base",
            "_model_module_version": "1.2.0",
            "_model_name": "LayoutModel",
            "_view_count": null,
            "_view_module": "@jupyter-widgets/base",
            "_view_module_version": "1.2.0",
            "_view_name": "LayoutView",
            "align_content": null,
            "align_items": null,
            "align_self": null,
            "border": null,
            "bottom": null,
            "display": null,
            "flex": null,
            "flex_flow": null,
            "grid_area": null,
            "grid_auto_columns": null,
            "grid_auto_flow": null,
            "grid_auto_rows": null,
            "grid_column": null,
            "grid_gap": null,
            "grid_row": null,
            "grid_template_areas": null,
            "grid_template_columns": null,
            "grid_template_rows": null,
            "height": null,
            "justify_content": null,
            "justify_items": null,
            "left": null,
            "margin": null,
            "max_height": null,
            "max_width": null,
            "min_height": null,
            "min_width": null,
            "object_fit": null,
            "object_position": null,
            "order": null,
            "overflow": null,
            "overflow_x": null,
            "overflow_y": null,
            "padding": null,
            "right": null,
            "top": null,
            "visibility": null,
            "width": null
          }
        },
        "4983818afe5f4869a586f5e09f2bd357": {
          "model_module": "@jupyter-widgets/controls",
          "model_module_version": "1.5.0",
          "model_name": "ProgressStyleModel",
          "state": {
            "_model_module": "@jupyter-widgets/controls",
            "_model_module_version": "1.5.0",
            "_model_name": "ProgressStyleModel",
            "_view_count": null,
            "_view_module": "@jupyter-widgets/base",
            "_view_module_version": "1.2.0",
            "_view_name": "StyleView",
            "bar_color": null,
            "description_width": ""
          }
        },
        "50722f5d202d481ebf10825a84334cdc": {
          "model_module": "@jupyter-widgets/controls",
          "model_module_version": "1.5.0",
          "model_name": "DescriptionStyleModel",
          "state": {
            "_model_module": "@jupyter-widgets/controls",
            "_model_module_version": "1.5.0",
            "_model_name": "DescriptionStyleModel",
            "_view_count": null,
            "_view_module": "@jupyter-widgets/base",
            "_view_module_version": "1.2.0",
            "_view_name": "StyleView",
            "description_width": ""
          }
        },
        "708538cb8b434e8a813f2db18eabb112": {
          "model_module": "@jupyter-widgets/controls",
          "model_module_version": "1.5.0",
          "model_name": "FloatProgressModel",
          "state": {
            "_dom_classes": [],
            "_model_module": "@jupyter-widgets/controls",
            "_model_module_version": "1.5.0",
            "_model_name": "FloatProgressModel",
            "_view_count": null,
            "_view_module": "@jupyter-widgets/controls",
            "_view_module_version": "1.5.0",
            "_view_name": "ProgressView",
            "bar_style": "success",
            "description": "",
            "description_tooltip": null,
            "layout": "IPY_MODEL_d1c9e18785594898ae0f5a8dd996cfdf",
            "max": 46830571,
            "min": 0,
            "orientation": "horizontal",
            "style": "IPY_MODEL_4983818afe5f4869a586f5e09f2bd357",
            "value": 46830571
          }
        },
        "73343c328d634932a765ab734d594dc4": {
          "model_module": "@jupyter-widgets/base",
          "model_module_version": "1.2.0",
          "model_name": "LayoutModel",
          "state": {
            "_model_module": "@jupyter-widgets/base",
            "_model_module_version": "1.2.0",
            "_model_name": "LayoutModel",
            "_view_count": null,
            "_view_module": "@jupyter-widgets/base",
            "_view_module_version": "1.2.0",
            "_view_name": "LayoutView",
            "align_content": null,
            "align_items": null,
            "align_self": null,
            "border": null,
            "bottom": null,
            "display": null,
            "flex": null,
            "flex_flow": null,
            "grid_area": null,
            "grid_auto_columns": null,
            "grid_auto_flow": null,
            "grid_auto_rows": null,
            "grid_column": null,
            "grid_gap": null,
            "grid_row": null,
            "grid_template_areas": null,
            "grid_template_columns": null,
            "grid_template_rows": null,
            "height": null,
            "justify_content": null,
            "justify_items": null,
            "left": null,
            "margin": null,
            "max_height": null,
            "max_width": null,
            "min_height": null,
            "min_width": null,
            "object_fit": null,
            "object_position": null,
            "order": null,
            "overflow": null,
            "overflow_x": null,
            "overflow_y": null,
            "padding": null,
            "right": null,
            "top": null,
            "visibility": null,
            "width": null
          }
        },
        "7f4c774397b74ebb941a9c88687e43a5": {
          "model_module": "@jupyter-widgets/controls",
          "model_module_version": "1.5.0",
          "model_name": "DescriptionStyleModel",
          "state": {
            "_model_module": "@jupyter-widgets/controls",
            "_model_module_version": "1.5.0",
            "_model_name": "DescriptionStyleModel",
            "_view_count": null,
            "_view_module": "@jupyter-widgets/base",
            "_view_module_version": "1.2.0",
            "_view_name": "StyleView",
            "description_width": ""
          }
        },
        "8ab3712d6637431aaa59ac7ad4ef3631": {
          "model_module": "@jupyter-widgets/controls",
          "model_module_version": "1.5.0",
          "model_name": "HBoxModel",
          "state": {
            "_dom_classes": [],
            "_model_module": "@jupyter-widgets/controls",
            "_model_module_version": "1.5.0",
            "_model_name": "HBoxModel",
            "_view_count": null,
            "_view_module": "@jupyter-widgets/controls",
            "_view_module_version": "1.5.0",
            "_view_name": "HBoxView",
            "box_style": "",
            "children": [
              "IPY_MODEL_1f5e8d000ee74530b16dfd1c6f26afe2",
              "IPY_MODEL_708538cb8b434e8a813f2db18eabb112",
              "IPY_MODEL_de5837e234934da98b4e97c041cbcdd5"
            ],
            "layout": "IPY_MODEL_b4b448e1ad1c4e388389759197dfbfbb"
          }
        },
        "b4b448e1ad1c4e388389759197dfbfbb": {
          "model_module": "@jupyter-widgets/base",
          "model_module_version": "1.2.0",
          "model_name": "LayoutModel",
          "state": {
            "_model_module": "@jupyter-widgets/base",
            "_model_module_version": "1.2.0",
            "_model_name": "LayoutModel",
            "_view_count": null,
            "_view_module": "@jupyter-widgets/base",
            "_view_module_version": "1.2.0",
            "_view_name": "LayoutView",
            "align_content": null,
            "align_items": null,
            "align_self": null,
            "border": null,
            "bottom": null,
            "display": null,
            "flex": null,
            "flex_flow": null,
            "grid_area": null,
            "grid_auto_columns": null,
            "grid_auto_flow": null,
            "grid_auto_rows": null,
            "grid_column": null,
            "grid_gap": null,
            "grid_row": null,
            "grid_template_areas": null,
            "grid_template_columns": null,
            "grid_template_rows": null,
            "height": null,
            "justify_content": null,
            "justify_items": null,
            "left": null,
            "margin": null,
            "max_height": null,
            "max_width": null,
            "min_height": null,
            "min_width": null,
            "object_fit": null,
            "object_position": null,
            "order": null,
            "overflow": null,
            "overflow_x": null,
            "overflow_y": null,
            "padding": null,
            "right": null,
            "top": null,
            "visibility": null,
            "width": null
          }
        },
        "c97b24a10bb243ef968897db4287be30": {
          "model_module": "@jupyter-widgets/controls",
          "model_module_version": "1.5.0",
          "model_name": "ProgressStyleModel",
          "state": {
            "_model_module": "@jupyter-widgets/controls",
            "_model_module_version": "1.5.0",
            "_model_name": "ProgressStyleModel",
            "_view_count": null,
            "_view_module": "@jupyter-widgets/base",
            "_view_module_version": "1.2.0",
            "_view_name": "StyleView",
            "bar_color": null,
            "description_width": ""
          }
        },
        "ca924b8ed8af4d888a02d380a77a5180": {
          "model_module": "@jupyter-widgets/base",
          "model_module_version": "1.2.0",
          "model_name": "LayoutModel",
          "state": {
            "_model_module": "@jupyter-widgets/base",
            "_model_module_version": "1.2.0",
            "_model_name": "LayoutModel",
            "_view_count": null,
            "_view_module": "@jupyter-widgets/base",
            "_view_module_version": "1.2.0",
            "_view_name": "LayoutView",
            "align_content": null,
            "align_items": null,
            "align_self": null,
            "border": null,
            "bottom": null,
            "display": null,
            "flex": null,
            "flex_flow": null,
            "grid_area": null,
            "grid_auto_columns": null,
            "grid_auto_flow": null,
            "grid_auto_rows": null,
            "grid_column": null,
            "grid_gap": null,
            "grid_row": null,
            "grid_template_areas": null,
            "grid_template_columns": null,
            "grid_template_rows": null,
            "height": null,
            "justify_content": null,
            "justify_items": null,
            "left": null,
            "margin": null,
            "max_height": null,
            "max_width": null,
            "min_height": null,
            "min_width": null,
            "object_fit": null,
            "object_position": null,
            "order": null,
            "overflow": null,
            "overflow_x": null,
            "overflow_y": null,
            "padding": null,
            "right": null,
            "top": null,
            "visibility": null,
            "width": null
          }
        },
        "d1c9e18785594898ae0f5a8dd996cfdf": {
          "model_module": "@jupyter-widgets/base",
          "model_module_version": "1.2.0",
          "model_name": "LayoutModel",
          "state": {
            "_model_module": "@jupyter-widgets/base",
            "_model_module_version": "1.2.0",
            "_model_name": "LayoutModel",
            "_view_count": null,
            "_view_module": "@jupyter-widgets/base",
            "_view_module_version": "1.2.0",
            "_view_name": "LayoutView",
            "align_content": null,
            "align_items": null,
            "align_self": null,
            "border": null,
            "bottom": null,
            "display": null,
            "flex": null,
            "flex_flow": null,
            "grid_area": null,
            "grid_auto_columns": null,
            "grid_auto_flow": null,
            "grid_auto_rows": null,
            "grid_column": null,
            "grid_gap": null,
            "grid_row": null,
            "grid_template_areas": null,
            "grid_template_columns": null,
            "grid_template_rows": null,
            "height": null,
            "justify_content": null,
            "justify_items": null,
            "left": null,
            "margin": null,
            "max_height": null,
            "max_width": null,
            "min_height": null,
            "min_width": null,
            "object_fit": null,
            "object_position": null,
            "order": null,
            "overflow": null,
            "overflow_x": null,
            "overflow_y": null,
            "padding": null,
            "right": null,
            "top": null,
            "visibility": null,
            "width": null
          }
        },
        "d8e4f95c96194e7da706f6b26d04e0f5": {
          "model_module": "@jupyter-widgets/controls",
          "model_module_version": "1.5.0",
          "model_name": "HBoxModel",
          "state": {
            "_dom_classes": [],
            "_model_module": "@jupyter-widgets/controls",
            "_model_module_version": "1.5.0",
            "_model_name": "HBoxModel",
            "_view_count": null,
            "_view_module": "@jupyter-widgets/controls",
            "_view_module_version": "1.5.0",
            "_view_name": "HBoxView",
            "box_style": "",
            "children": [
              "IPY_MODEL_2cdbcfd4614f41758a0df13cc6fcafe1",
              "IPY_MODEL_dcdd7af3746f477c8c86d165f6eb440a",
              "IPY_MODEL_1d622b1e28c140b5b564e2352bdfe96d"
            ],
            "layout": "IPY_MODEL_3cde117104f64b0aa88f9d0d15f53998"
          }
        },
        "dcdd7af3746f477c8c86d165f6eb440a": {
          "model_module": "@jupyter-widgets/controls",
          "model_module_version": "1.5.0",
          "model_name": "FloatProgressModel",
          "state": {
            "_dom_classes": [],
            "_model_module": "@jupyter-widgets/controls",
            "_model_module_version": "1.5.0",
            "_model_name": "FloatProgressModel",
            "_view_count": null,
            "_view_module": "@jupyter-widgets/controls",
            "_view_module_version": "1.5.0",
            "_view_name": "ProgressView",
            "bar_style": "success",
            "description": "",
            "description_tooltip": null,
            "layout": "IPY_MODEL_73343c328d634932a765ab734d594dc4",
            "max": 108949747,
            "min": 0,
            "orientation": "horizontal",
            "style": "IPY_MODEL_c97b24a10bb243ef968897db4287be30",
            "value": 108949747
          }
        },
        "de5837e234934da98b4e97c041cbcdd5": {
          "model_module": "@jupyter-widgets/controls",
          "model_module_version": "1.5.0",
          "model_name": "HTMLModel",
          "state": {
            "_dom_classes": [],
            "_model_module": "@jupyter-widgets/controls",
            "_model_module_version": "1.5.0",
            "_model_name": "HTMLModel",
            "_view_count": null,
            "_view_module": "@jupyter-widgets/controls",
            "_view_module_version": "1.5.0",
            "_view_name": "HTMLView",
            "description": "",
            "description_tooltip": null,
            "layout": "IPY_MODEL_ec9b83785c5f47b6b95358a7d36fcd11",
            "placeholder": "​",
            "style": "IPY_MODEL_f58663da6f8047498da13f0f2eb4d8d1",
            "value": " 44.7M/44.7M [00:00&lt;00:00, 181MB/s]"
          }
        },
        "ec9b83785c5f47b6b95358a7d36fcd11": {
          "model_module": "@jupyter-widgets/base",
          "model_module_version": "1.2.0",
          "model_name": "LayoutModel",
          "state": {
            "_model_module": "@jupyter-widgets/base",
            "_model_module_version": "1.2.0",
            "_model_name": "LayoutModel",
            "_view_count": null,
            "_view_module": "@jupyter-widgets/base",
            "_view_module_version": "1.2.0",
            "_view_name": "LayoutView",
            "align_content": null,
            "align_items": null,
            "align_self": null,
            "border": null,
            "bottom": null,
            "display": null,
            "flex": null,
            "flex_flow": null,
            "grid_area": null,
            "grid_auto_columns": null,
            "grid_auto_flow": null,
            "grid_auto_rows": null,
            "grid_column": null,
            "grid_gap": null,
            "grid_row": null,
            "grid_template_areas": null,
            "grid_template_columns": null,
            "grid_template_rows": null,
            "height": null,
            "justify_content": null,
            "justify_items": null,
            "left": null,
            "margin": null,
            "max_height": null,
            "max_width": null,
            "min_height": null,
            "min_width": null,
            "object_fit": null,
            "object_position": null,
            "order": null,
            "overflow": null,
            "overflow_x": null,
            "overflow_y": null,
            "padding": null,
            "right": null,
            "top": null,
            "visibility": null,
            "width": null
          }
        },
        "f58663da6f8047498da13f0f2eb4d8d1": {
          "model_module": "@jupyter-widgets/controls",
          "model_module_version": "1.5.0",
          "model_name": "DescriptionStyleModel",
          "state": {
            "_model_module": "@jupyter-widgets/controls",
            "_model_module_version": "1.5.0",
            "_model_name": "DescriptionStyleModel",
            "_view_count": null,
            "_view_module": "@jupyter-widgets/base",
            "_view_module_version": "1.2.0",
            "_view_name": "StyleView",
            "description_width": ""
          }
        }
      }
    }
  },
  "nbformat": 4,
  "nbformat_minor": 0
}
